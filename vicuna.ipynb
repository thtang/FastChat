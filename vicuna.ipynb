{
 "cells": [
  {
   "cell_type": "code",
   "execution_count": 1,
   "id": "14cc484c",
   "metadata": {
    "scrolled": true
   },
   "outputs": [
    {
     "name": "stderr",
     "output_type": "stream",
     "text": [
      "/data/jason.tangth/py39_vicuna/lib/python3.9/site-packages/tqdm/auto.py:21: TqdmWarning: IProgress not found. Please update jupyter and ipywidgets. See https://ipywidgets.readthedocs.io/en/stable/user_install.html\n",
      "  from .autonotebook import tqdm as notebook_tqdm\n"
     ]
    }
   ],
   "source": [
    "import argparse\n",
    "import json\n",
    "\n",
    "import torch\n",
    "from transformers import AutoTokenizer, AutoModelForCausalLM\n",
    "\n",
    "from fastchat.conversation import get_default_conv_template, compute_skip_echo_len\n",
    "from fastchat.serve.inference import load_model\n"
   ]
  },
  {
   "cell_type": "code",
   "execution_count": 2,
   "id": "e82c6bee",
   "metadata": {},
   "outputs": [],
   "source": [
    "model_path = '/data/jason.tangth/model/vicuna_data/vicuna-13b/'"
   ]
  },
  {
   "cell_type": "code",
   "execution_count": 3,
   "id": "523102ce",
   "metadata": {},
   "outputs": [
    {
     "name": "stdout",
     "output_type": "stream",
     "text": [
      "init_kwargs {'torch_dtype': torch.float16}\n"
     ]
    },
    {
     "name": "stderr",
     "output_type": "stream",
     "text": [
      "Loading checkpoint shards: 100%|████████████████████████████████████████████████████████████████████████████████████████████████████████████████████████████████████████████████████████████████████████████████████████████████████████████████| 3/3 [00:41<00:00, 13.73s/it]\n"
     ]
    }
   ],
   "source": [
    "model, tokenizer = load_model(\n",
    "    model_path='/data/jason.tangth/model/vicuna_data/vicuna-13b/',\n",
    "    device='cuda',\n",
    "    num_gpus='1',\n",
    "    max_gpu_memory='28Gib',\n",
    "    load_8bit=False,\n",
    "    debug=False,\n",
    "    )"
   ]
  },
  {
   "cell_type": "code",
   "execution_count": 6,
   "id": "a43310dd",
   "metadata": {},
   "outputs": [
    {
     "name": "stdout",
     "output_type": "stream",
     "text": [
      "Motorcycles - Motorcycle Accessories - Others\n"
     ]
    }
   ],
   "source": [
    "msg = '''\n",
    "Choose a category for the product \"dek lumpur dan tutup mesin beat karbu 2008 - 2012 terbaru!!\" from below options:\n",
    "\n",
    "Motorcycles - Motorcycle Accessories - Mud Flaps & Splash Guards\n",
    "Motorcycles - Motorcycle Spare Parts - Body & Frame\n",
    "Motorcycles - Motorcycle Spare Parts - Others\n",
    "Motorcycles - Motorcycle Accessories - Others\n",
    "Motorcycles - Motorcycles\n",
    "Motorcycles - Others\n",
    "Motorcycles - Motorcycle Accessories - Boxes & Cases\n",
    "Motorcycles - Motorcycle Accessories - Carpets\n",
    "Motorcycles - Motorcycle Spare Parts - Cables & Tubes\n",
    "Automobiles - Automobile Exterior Accessories - Mud Flaps & Splash Guards\n",
    "Motorcycles - Motorcycle Accessories - Covers\n",
    "Motorcycles - Motorcycle Spare Parts - Tires & Accessories\n",
    "Motorcycles - Motorcycle Spare Parts - Drivetrain, Transmission & Clutches - Chains & Gears\n",
    "Motorcycles - Motorcycle Accessories - Stickers, Logos & Emblems\n",
    "Motorcycles - Motorcycle Spare Parts - Batteries & Accessories\n",
    "None of above\n",
    "\n",
    "Choose a correct answer from above options in English. Do not provide answer not shown above.\n",
    "'''\n",
    "conv = get_default_conv_template(model_path).copy()\n",
    "conv.append_message(conv.roles[0], msg)\n",
    "conv.append_message(conv.roles[1], None)\n",
    "prompt = conv.get_prompt()\n",
    "\n",
    "inputs = tokenizer([prompt])\n",
    "output_ids = model.generate(\n",
    "    torch.as_tensor(inputs.input_ids).cuda(),\n",
    "    do_sample=True,\n",
    "    temperature=0.05,\n",
    "    max_new_tokens=512,\n",
    ")\n",
    "outputs = tokenizer.batch_decode(output_ids, skip_special_tokens=True)[0]\n",
    "skip_echo_len = compute_skip_echo_len(model_path, conv, prompt)\n",
    "outputs = outputs[skip_echo_len:]\n",
    "\n",
    "# print(f\"{conv.roles[0]}: {msg}\")\n",
    "print(f\"{outputs}\")"
   ]
  },
  {
   "cell_type": "markdown",
   "id": "83852176",
   "metadata": {},
   "source": [
    "##### appendix"
   ]
  },
  {
   "cell_type": "code",
   "execution_count": null,
   "id": "6e480180",
   "metadata": {},
   "outputs": [],
   "source": [
    "! curl http://localhost:8945/v1/chat/completions -H \"Content-Type: application/json\" -d '{\"model\": \"vicuna-13b-v1.1\",\"messages\": [{\"role\": \"user\", \"content\": \"Hello!\"}]}'"
   ]
  },
  {
   "cell_type": "code",
   "execution_count": null,
   "id": "653c15fa",
   "metadata": {},
   "outputs": [],
   "source": [
    "# test on monthly QC\n",
    "import pandas as pd\n",
    "import pickle \n",
    "df = pd.read_csv('./CSPU_Cluster_Monthly_wrong_category_12_sorted_gpt4_gpt35_gpt35top15_gpt35top30_gpt4top15_gpt35top1510in1.csv')"
   ]
  },
  {
   "cell_type": "code",
   "execution_count": null,
   "id": "4311bd7a",
   "metadata": {},
   "outputs": [],
   "source": [
    "with open('/data/jason.tangth/codebase/offline-and-online-data-filter-and-category-prediction-v1.9.7/assets/dictionary/data_dict.pkl', \n",
    "          'rb') as f:\n",
    "    data_dict = pickle.load(f)\n",
    "\n",
    "leaf_to_L1_dict = data_dict['leaf_to_L1_dict']\n",
    "ID_mapping_dict = data_dict['ID_mapping_dict']\n",
    "name_mapping_dict = data_dict['name_mapping_dict']"
   ]
  },
  {
   "cell_type": "code",
   "execution_count": null,
   "id": "c917db37",
   "metadata": {},
   "outputs": [],
   "source": [
    "## prompt 1\n",
    "def get_vicuna_result(title, categories, model_path='/data/jason.tangth/model/vicuna_data/vicuna-13b/'):\n",
    "    msg = '''\n",
    "        Choose a category for the product \"{product_title}\" from below options:\n",
    "        \n",
    "        {categories}        \n",
    "        \n",
    "        Just output the option.\n",
    "        '''.format(product_title=title, categories=categories)\n",
    "    conv = get_default_conv_template(model_path).copy()\n",
    "    conv.append_message(conv.roles[0], msg)\n",
    "    conv.append_message(conv.roles[1], None)\n",
    "    prompt = conv.get_prompt()\n",
    "\n",
    "    inputs = tokenizer([prompt])\n",
    "    output_ids = model.generate(\n",
    "        torch.as_tensor(inputs.input_ids).cuda(),\n",
    "        do_sample=True,\n",
    "        temperature=0.05,\n",
    "        max_new_tokens=128,\n",
    "    )\n",
    "    outputs = tokenizer.batch_decode(output_ids, skip_special_tokens=True)[0]\n",
    "    skip_echo_len = compute_skip_echo_len(model_path, conv, prompt)\n",
    "    outputs = outputs[skip_echo_len:]\n",
    "    return outputs\n",
    "\n",
    "def get_categories(candidates):\n",
    "    target_leaf_name = [ID_mapping_dict.get(c).replace('BE - ','') for c in candidates]\n",
    "    categories = ''\n",
    "    for i in range(len(target_leaf_name)):\n",
    "        categories += '{}\\n'.format(target_leaf_name[i])\n",
    "    categories += 'None of above\\n'\n",
    "    return categories\n",
    "\n",
    "gpt_results = []\n",
    "for i, row in df.iterrows():\n",
    "    candidates = eval(row['candidates'].replace(' ',','))\n",
    "    categories = get_categories(candidates)\n",
    "    title = row['title']\n",
    "    r = get_vicuna_result(title, categories)\n",
    "    gpt_results.append(r)"
   ]
  },
  {
   "cell_type": "code",
   "execution_count": null,
   "id": "507b331b",
   "metadata": {},
   "outputs": [],
   "source": [
    "gpt_results"
   ]
  },
  {
   "cell_type": "code",
   "execution_count": null,
   "id": "953c5c6c",
   "metadata": {},
   "outputs": [],
   "source": [
    "df['vicuna_top15_results'] = gpt_results"
   ]
  },
  {
   "cell_type": "code",
   "execution_count": null,
   "id": "beb05a74",
   "metadata": {},
   "outputs": [],
   "source": [
    "import numpy as np\n",
    "leaf_node = np.array([i.replace('BE - ', '') for i in name_mapping_dict.keys() if 'BE - ' in i])"
   ]
  },
  {
   "cell_type": "code",
   "execution_count": null,
   "id": "21ca5694",
   "metadata": {},
   "outputs": [],
   "source": [
    "rest = df[df['gpt_id']==999999]['vicuna_top15_results'].apply(lambda x:leaf_node[[leaf in x for leaf in leaf_node]])"
   ]
  },
  {
   "cell_type": "code",
   "execution_count": null,
   "id": "432aeba2",
   "metadata": {},
   "outputs": [],
   "source": [
    "df.loc[df['gpt_id']==999999, 'vicuna_top15_results'] = rest.apply(lambda x:x[0] if len(x)>0 else '999999').tolist()"
   ]
  },
  {
   "cell_type": "code",
   "execution_count": null,
   "id": "59f6b063",
   "metadata": {},
   "outputs": [],
   "source": [
    "df['gpt_id'] = df['vicuna_top15_results'].apply(lambda x:\n",
    "                                                name_mapping_dict.get(\n",
    "                                                    'BE - '+x.split('\\n')[0],\n",
    "                                                    999999))"
   ]
  },
  {
   "cell_type": "code",
   "execution_count": null,
   "id": "14699812",
   "metadata": {},
   "outputs": [],
   "source": [
    "df_local_pic = pd.read_csv('CSPU_Cluster_Monthly_wrong_category_12_sorted_local_gt.csv')\n",
    "df_local_pic = df_local_pic[df_local_pic['gt_name'].notna()]\n",
    "df_local_pic['gt_id'] = df_local_pic['gt_id'].astype(int)"
   ]
  },
  {
   "cell_type": "code",
   "execution_count": null,
   "id": "4437adb1",
   "metadata": {},
   "outputs": [],
   "source": [
    "gpt_id_col = 'gpt_id'\n",
    "m_df = df_local_pic.merge(df[['Itemid', gpt_id_col, 'candidates', 'gpt35_top15_results']], on='Itemid')\n",
    "\n",
    "(m_df[gpt_id_col]==m_df['gt_id']).mean()"
   ]
  },
  {
   "cell_type": "code",
   "execution_count": null,
   "id": "2a9567a9",
   "metadata": {},
   "outputs": [],
   "source": [
    "df.to_csv('./CSPU_Cluster_Monthly_wrong_category_12_sorted_gpt4_gpt35_gpt35top15_gpt35top30_gpt4top15_gpt35top1510in1_vicuna.csv',\n",
    "          index=False\n",
    "         )"
   ]
  },
  {
   "cell_type": "code",
   "execution_count": null,
   "id": "54b71f06",
   "metadata": {},
   "outputs": [],
   "source": []
  }
 ],
 "metadata": {
  "kernelspec": {
   "display_name": "Python 3 (ipykernel)",
   "language": "python",
   "name": "python3"
  },
  "language_info": {
   "codemirror_mode": {
    "name": "ipython",
    "version": 3
   },
   "file_extension": ".py",
   "mimetype": "text/x-python",
   "name": "python",
   "nbconvert_exporter": "python",
   "pygments_lexer": "ipython3",
   "version": "3.9.1"
  }
 },
 "nbformat": 4,
 "nbformat_minor": 5
}
